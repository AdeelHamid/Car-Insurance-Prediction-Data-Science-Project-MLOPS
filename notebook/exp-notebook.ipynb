{
 "cells": [
  {
   "cell_type": "markdown",
   "id": "498929ab",
   "metadata": {},
   "source": [
    "# Car Insurance Prediction using Machine Learning - Experiment Notebook \n",
    "* This project aims to predict whether an individual will buy car insurance based on various features using machine learning techniques."
   ]
  },
  {
   "cell_type": "code",
   "execution_count": 2,
   "id": "05f1a1a0",
   "metadata": {},
   "outputs": [],
   "source": [
    "# Importing necessary libraries\n",
    "import pandas as pd\n",
    "import numpy as np\n",
    "import matplotlib.pyplot as plt\n",
    "import seaborn as sns\n"
   ]
  }
 ],
 "metadata": {
  "kernelspec": {
   "display_name": "car",
   "language": "python",
   "name": "python3"
  },
  "language_info": {
   "codemirror_mode": {
    "name": "ipython",
    "version": 3
   },
   "file_extension": ".py",
   "mimetype": "text/x-python",
   "name": "python",
   "nbconvert_exporter": "python",
   "pygments_lexer": "ipython3",
   "version": "3.12.3"
  }
 },
 "nbformat": 4,
 "nbformat_minor": 5
}
